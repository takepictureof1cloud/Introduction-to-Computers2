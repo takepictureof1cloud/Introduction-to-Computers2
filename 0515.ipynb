{
  "nbformat": 4,
  "nbformat_minor": 0,
  "metadata": {
    "colab": {
      "provenance": [],
      "authorship_tag": "ABX9TyPG3wQQ3G7fy4KmsfsnAO56",
      "include_colab_link": true
    },
    "kernelspec": {
      "name": "python3",
      "display_name": "Python 3"
    },
    "language_info": {
      "name": "python"
    }
  },
  "cells": [
    {
      "cell_type": "markdown",
      "metadata": {
        "id": "view-in-github",
        "colab_type": "text"
      },
      "source": [
        "<a href=\"https://colab.research.google.com/github/takepictureof1cloud/Introduction-to-Computers2/blob/main/0515.ipynb\" target=\"_parent\"><img src=\"https://colab.research.google.com/assets/colab-badge.svg\" alt=\"Open In Colab\"/></a>"
      ]
    },
    {
      "cell_type": "code",
      "execution_count": 1,
      "metadata": {
        "colab": {
          "base_uri": "https://localhost:8080/"
        },
        "id": "0dVJXrPUNMOv",
        "outputId": "c8be6fd3-60c5-483a-f84b-318045bbea94"
      },
      "outputs": [
        {
          "output_type": "stream",
          "name": "stdout",
          "text": [
            "0515\n"
          ]
        }
      ],
      "source": [
        "print(\"0515\")"
      ]
    },
    {
      "cell_type": "code",
      "source": [
        "rain=input(\"今天會下雨嗎?\")\n",
        "if (rain==\"Y\" or rain==\"y\"):\n",
        "  print(\"出門記得帶傘!\")\n",
        "else:\n",
        "  print(\"請重新輸入\")"
      ],
      "metadata": {
        "colab": {
          "base_uri": "https://localhost:8080/"
        },
        "id": "3YEe74JbRV0I",
        "outputId": "12abd6ef-dbc1-47e5-add6-7dd7ca3e91eb"
      },
      "execution_count": 2,
      "outputs": [
        {
          "output_type": "stream",
          "name": "stdout",
          "text": [
            "今天會下雨嗎?N\n",
            "請重新輸入\n"
          ]
        }
      ]
    },
    {
      "cell_type": "code",
      "source": [
        "溫度 = float(input(\"請輸入體溫:\"))\n",
        "if 溫度 >= 37.5:\n",
        "  print('體溫過高!')\n",
        "elif 溫度 >= 37:\n",
        "  print('體溫略高!')\n",
        "elif 溫度 >= 34:\n",
        "  print('體溫正常!')\n",
        "elif 溫度 < 34:\n",
        "  print('體溫異常，請重新量測!')"
      ],
      "metadata": {
        "colab": {
          "base_uri": "https://localhost:8080/"
        },
        "id": "AT5zOpurRWAg",
        "outputId": "222d116f-8e3a-462a-a12f-6c1f2775cee3"
      },
      "execution_count": 23,
      "outputs": [
        {
          "output_type": "stream",
          "name": "stdout",
          "text": [
            "請輸入體溫:36\n",
            "體溫正常!\n"
          ]
        }
      ]
    },
    {
      "cell_type": "code",
      "source": [
        "score = int(input(\"請輸入成績:\"))\n",
        "if score >= 90:\n",
        "  print('A')\n",
        "elif score >= 80:\n",
        "  print('B')\n",
        "elif score >= 70:\n",
        "  print('C')\n",
        "elif score >= 60:\n",
        "  print('D')\n",
        "else:\n",
        "  print('E')"
      ],
      "metadata": {
        "colab": {
          "base_uri": "https://localhost:8080/"
        },
        "id": "IGlhA1HkRWQI",
        "outputId": "834d5bdd-d8cd-4b19-b771-61b560c21c12"
      },
      "execution_count": 34,
      "outputs": [
        {
          "output_type": "stream",
          "name": "stdout",
          "text": [
            "請輸入成績:50\n",
            "E\n"
          ]
        }
      ]
    },
    {
      "cell_type": "code",
      "source": [
        "month = int(input(\"請輸入月份:\"))\n",
        "if month == 3 and 4 and 5:\n",
        "  print(month,'月是春天!')\n",
        "elif month == 6 and 7 and 8:\n",
        "  print(month,'月是夏天!')\n",
        "elif month == 9 and 10 and 11:\n",
        "  print(month,'月是秋天!')\n",
        "elif month == 12 and 1 and 2:\n",
        "  print(month,'月是冬天！')\n",
        "else:\n",
        "  print('月份不在範圍內!')"
      ],
      "metadata": {
        "colab": {
          "base_uri": "https://localhost:8080/"
        },
        "id": "MBwR0w1rRWRf",
        "outputId": "1fe0d003-4f98-4fd3-f0be-5064891879cc"
      },
      "execution_count": 29,
      "outputs": [
        {
          "output_type": "stream",
          "name": "stdout",
          "text": [
            "請輸入月份:12\n",
            "12 月是冬天！\n"
          ]
        }
      ]
    },
    {
      "cell_type": "code",
      "source": [
        "revenue = int(input(\"請輸入今年收入淨額:\"))\n",
        "if revenue >= 2000000:\n",
        "  print('付稅金額:',revenue*0.3,'元')\n",
        "elif revenue >= 1000000:\n",
        "  print('付稅金額:',revenue*0.21,'元')\n",
        "elif revenue >= 600000:\n",
        "  print('付稅金額:',revenue*0.13,'元')\n",
        "elif revenue >= 300000:\n",
        "  print('付稅金額:',revenue*0.06,'元')\n",
        "else:\n",
        "  print('付稅金額: 0 元')"
      ],
      "metadata": {
        "colab": {
          "base_uri": "https://localhost:8080/"
        },
        "id": "aU2uiOB2RWag",
        "outputId": "4ffc31e7-5496-483e-bf95-fd497e8f2c72"
      },
      "execution_count": 33,
      "outputs": [
        {
          "output_type": "stream",
          "name": "stdout",
          "text": [
            "請輸入今年收入淨額:2000000\n",
            "付稅金額: 600000.0 元\n"
          ]
        }
      ]
    }
  ]
}
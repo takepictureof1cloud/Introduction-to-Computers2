{
  "nbformat": 4,
  "nbformat_minor": 0,
  "metadata": {
    "colab": {
      "provenance": [],
      "authorship_tag": "ABX9TyMSTHEfsPyWc01peGkVgBZa",
      "include_colab_link": true
    },
    "kernelspec": {
      "name": "python3",
      "display_name": "Python 3"
    },
    "language_info": {
      "name": "python"
    }
  },
  "cells": [
    {
      "cell_type": "markdown",
      "metadata": {
        "id": "view-in-github",
        "colab_type": "text"
      },
      "source": [
        "<a href=\"https://colab.research.google.com/github/takepictureof1cloud/Introduction-to-Computers2/blob/main/0501.ipynb\" target=\"_parent\"><img src=\"https://colab.research.google.com/assets/colab-badge.svg\" alt=\"Open In Colab\"/></a>"
      ]
    },
    {
      "cell_type": "code",
      "execution_count": null,
      "metadata": {
        "colab": {
          "base_uri": "https://localhost:8080/"
        },
        "id": "mSp4gSQeHeDj",
        "outputId": "dde36302-562a-47f0-e922-6ddd3c3e6d08"
      },
      "outputs": [
        {
          "output_type": "stream",
          "name": "stdout",
          "text": [
            "Hello World\n"
          ]
        }
      ],
      "source": [
        "print(\"Hello World\")"
      ]
    },
    {
      "cell_type": "code",
      "source": [
        "F=float(input('華氏'))\n",
        "攝氏溫度= ( F - 32 ) * 5 / 9\n",
        "print('%.1f' % 攝氏溫度)"
      ],
      "metadata": {
        "colab": {
          "base_uri": "https://localhost:8080/"
        },
        "id": "3xp8ZXTYSX4I",
        "outputId": "d243a643-51fd-4847-81b6-504443408e67"
      },
      "execution_count": 19,
      "outputs": [
        {
          "output_type": "stream",
          "name": "stdout",
          "text": [
            "華氏100\n",
            "37.8\n"
          ]
        }
      ]
    },
    {
      "cell_type": "code",
      "source": [
        "a=int(input(\"請輸入一個整數\"))\n",
        "b = a + 1\n",
        "tmp = 0\n",
        "for i in range(1,b):\n",
        "  tmp +=i\n",
        "print('%d' % tmp)"
      ],
      "metadata": {
        "colab": {
          "base_uri": "https://localhost:8080/"
        },
        "id": "fvyvo4ehU_dI",
        "outputId": "e8e48c84-37bd-4844-ba8e-02e0fd33801e"
      },
      "execution_count": 20,
      "outputs": [
        {
          "output_type": "stream",
          "name": "stdout",
          "text": [
            "請輸入一個整數5\n",
            "15\n"
          ]
        }
      ]
    },
    {
      "cell_type": "code",
      "source": [
        "c=int(input(\"請輸入本金存款金額\"))\n",
        "print(\"六年後存款為:\", c * ( 1 + 0.02 ) ** 6 )"
      ],
      "metadata": {
        "id": "7ONRkx_VLzTB",
        "colab": {
          "base_uri": "https://localhost:8080/"
        },
        "outputId": "0d5b1a57-2c51-43f2-f5ef-0cfdf3068a6e"
      },
      "execution_count": 21,
      "outputs": [
        {
          "output_type": "stream",
          "name": "stdout",
          "text": [
            "請輸入本金存款金額10000\n",
            "六年後存款為: 11261.62419264\n"
          ]
        }
      ]
    }
  ]
}